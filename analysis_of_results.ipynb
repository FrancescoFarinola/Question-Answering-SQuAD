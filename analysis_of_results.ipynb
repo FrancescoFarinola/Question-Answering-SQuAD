{
  "nbformat": 4,
  "nbformat_minor": 0,
  "metadata": {
    "colab": {
      "name": "analysis of results.ipynb",
      "provenance": []
    },
    "kernelspec": {
      "name": "python3",
      "display_name": "Python 3"
    },
    "language_info": {
      "name": "python"
    }
  },
  "cells": [
    {
      "cell_type": "code",
      "metadata": {
        "colab": {
          "base_uri": "https://localhost:8080/"
        },
        "id": "3ZzbRODZk1XD",
        "outputId": "49397151-8bca-4a66-dad4-c515b9925116"
      },
      "source": [
        "!git clone https://github.com/FrancescoFarinola/SQuAD/"
      ],
      "execution_count": 1,
      "outputs": [
        {
          "output_type": "stream",
          "name": "stdout",
          "text": [
            "Cloning into 'SQuAD'...\n",
            "remote: Enumerating objects: 197, done.\u001b[K\n",
            "remote: Counting objects: 100% (197/197), done.\u001b[K\n",
            "remote: Compressing objects: 100% (130/130), done.\u001b[K\n",
            "remote: Total 197 (delta 107), reused 145 (delta 64), pack-reused 0\u001b[K\n",
            "Receiving objects: 100% (197/197), 218.60 MiB | 31.26 MiB/s, done.\n",
            "Resolving deltas: 100% (107/107), done.\n",
            "Checking out files: 100% (23/23), done.\n"
          ]
        }
      ]
    },
    {
      "cell_type": "code",
      "metadata": {
        "id": "h0p7chR3k4nD"
      },
      "source": [
        "%%capture\n",
        "%cd SQuAD/\n",
        "!pip install gensim==4.0.0\n",
        "!pip install nltk\n",
        "!pip install chars2vec\n",
        "!pip install spacy\n",
        "!pip install symspellpy"
      ],
      "execution_count": 2,
      "outputs": []
    },
    {
      "cell_type": "code",
      "metadata": {
        "colab": {
          "base_uri": "https://localhost:8080/"
        },
        "id": "LKtZz1r2kuX6",
        "outputId": "859d01a1-d104-4d64-be22-140154d7a886"
      },
      "source": [
        "import pandas as pd\n",
        "from keras.utils.vis_utils import plot_model\n",
        "from tensorflow.python.keras.callbacks import EarlyStopping\n",
        "from tensorflow.python.keras.utils.np_utils import to_categorical\n",
        "from tensorflow import one_hot\n",
        "import load_data\n",
        "import preprocess\n",
        "import utils\n",
        "import our_model\n",
        "import sys\n",
        "import io\n",
        "import json\n",
        "\n",
        "from os.path import isfile\n",
        "import numpy as np\n",
        "#import cupy as np\n",
        "from tensorflow.keras.preprocessing.text import tokenizer_from_json \n",
        "from settings import EMBEDDING_DIM, EPOCHS, BATCH_SIZE, MODELS_DIR\n",
        "#from settings import MAX_QUESTION_LENGTH, MAX_CONTEXT_LENGTH, MAX_TEXT_LENGTH"
      ],
      "execution_count": 3,
      "outputs": [
        {
          "output_type": "stream",
          "name": "stdout",
          "text": [
            "[nltk_data] Downloading package wordnet to /root/nltk_data...\n",
            "[nltk_data]   Unzipping corpora/wordnet.zip.\n",
            "\u001b[38;5;2m✔ Download and installation successful\u001b[0m\n",
            "You can now load the model via spacy.load('en_core_web_sm')\n"
          ]
        },
        {
          "output_type": "stream",
          "name": "stderr",
          "text": [
            "/usr/local/lib/python3.7/dist-packages/gensim/similarities/__init__.py:15: UserWarning: The gensim.similarities.levenshtein submodule is disabled, because the optional Levenshtein package <https://pypi.org/project/python-Levenshtein/> is unavailable. Install Levenhstein (e.g. `pip install python-Levenshtein`) to suppress this warning.\n",
            "  warnings.warn(msg)\n"
          ]
        }
      ]
    },
    {
      "cell_type": "code",
      "metadata": {
        "colab": {
          "base_uri": "https://localhost:8080/"
        },
        "id": "aHrE_630k_1r",
        "outputId": "c5a784f6-6616-4cc1-efd9-8fe73cc739d3"
      },
      "source": [
        "from preprocess import nlp\n",
        "print(\"Loading dataset...\")\n",
        "dataframe = load_data.load_dataset()\n",
        "print(dataframe.shape)\n",
        "print(\"Splitting train and test set...\")\n",
        "train_df, test_df = load_data.split_test_set(dataframe)\n",
        "print(train_df.shape, test_df.shape)\n",
        "print(\"Splitting train and validation set...\")\n",
        "train_df, val_df = load_data.split_validation_set(train_df, rate=0.2)\n",
        "print(train_df.shape, val_df.shape)"
      ],
      "execution_count": 4,
      "outputs": [
        {
          "output_type": "stream",
          "name": "stdout",
          "text": [
            "Loading dataset...\n",
            "(87599, 6)\n",
            "Splitting train and test set...\n",
            "(78161, 6) (9438, 6)\n",
            "Splitting train and validation set...\n",
            "(61143, 6) (17018, 6)\n"
          ]
        }
      ]
    },
    {
      "cell_type": "code",
      "metadata": {
        "colab": {
          "base_uri": "https://localhost:8080/",
          "height": 419
        },
        "id": "d7uI_wHIlIwu",
        "outputId": "75159660-c856-4cd1-f906-b91bf11a41bc"
      },
      "source": [
        "val_cfr = val_df.sort_values(by='id', inplace=False)\n",
        "val_cfr.drop(columns=['title', 'context', 'answer_start', 'id'], inplace=True)\n",
        "val_cfr.reset_index(inplace=True, drop=True)\n",
        "\n",
        "with open(\"predictions.json\", 'r') as f:\n",
        "  predictions =json.load(f)\n",
        "\n",
        "val_predictions = dict([(k, predictions.get(k)) for k in val_df.id.values])\n",
        "val_cfr.insert(1, 'prediction', list(zip(*sorted(val_predictions.items())))[1])\n",
        "val_cfr"
      ],
      "execution_count": 230,
      "outputs": [
        {
          "output_type": "execute_result",
          "data": {
            "text/html": [
              "<div>\n",
              "<style scoped>\n",
              "    .dataframe tbody tr th:only-of-type {\n",
              "        vertical-align: middle;\n",
              "    }\n",
              "\n",
              "    .dataframe tbody tr th {\n",
              "        vertical-align: top;\n",
              "    }\n",
              "\n",
              "    .dataframe thead th {\n",
              "        text-align: right;\n",
              "    }\n",
              "</style>\n",
              "<table border=\"1\" class=\"dataframe\">\n",
              "  <thead>\n",
              "    <tr style=\"text-align: right;\">\n",
              "      <th></th>\n",
              "      <th>text</th>\n",
              "      <th>prediction</th>\n",
              "      <th>question</th>\n",
              "    </tr>\n",
              "  </thead>\n",
              "  <tbody>\n",
              "    <tr>\n",
              "      <th>0</th>\n",
              "      <td>in the late 1990s</td>\n",
              "      <td>September 4, 1981</td>\n",
              "      <td>When did Beyonce start becoming popular?</td>\n",
              "    </tr>\n",
              "    <tr>\n",
              "      <th>1</th>\n",
              "      <td>singing and dancing</td>\n",
              "      <td>Houston, Texas</td>\n",
              "      <td>What areas did Beyonce compete in when she was...</td>\n",
              "    </tr>\n",
              "    <tr>\n",
              "      <th>2</th>\n",
              "      <td>2003</td>\n",
              "      <td>1990s</td>\n",
              "      <td>When did Beyonce leave Destiny's Child and bec...</td>\n",
              "    </tr>\n",
              "    <tr>\n",
              "      <th>3</th>\n",
              "      <td>acting</td>\n",
              "      <td>Beautiful Liar\". Beyoncé also ventured into ac...</td>\n",
              "      <td>After her second solo album, what other entert...</td>\n",
              "    </tr>\n",
              "    <tr>\n",
              "      <th>4</th>\n",
              "      <td>Jay Z</td>\n",
              "      <td>Jay Z</td>\n",
              "      <td>Which artist did Beyonce marry?</td>\n",
              "    </tr>\n",
              "    <tr>\n",
              "      <th>...</th>\n",
              "      <td>...</td>\n",
              "      <td>...</td>\n",
              "      <td>...</td>\n",
              "    </tr>\n",
              "    <tr>\n",
              "      <th>17013</th>\n",
              "      <td>natural gas</td>\n",
              "      <td>gas plants</td>\n",
              "      <td>What type of power plant is Darbytown?</td>\n",
              "    </tr>\n",
              "    <tr>\n",
              "      <th>17014</th>\n",
              "      <td>61</td>\n",
              "      <td>61</td>\n",
              "      <td>How many kilometers of sewer lines exist in Ri...</td>\n",
              "    </tr>\n",
              "    <tr>\n",
              "      <th>17015</th>\n",
              "      <td>44-million-gallon</td>\n",
              "      <td>44-million-gallon</td>\n",
              "      <td>How much water is contained in Shockoe Retenti...</td>\n",
              "    </tr>\n",
              "    <tr>\n",
              "      <th>17016</th>\n",
              "      <td>62,000</td>\n",
              "      <td>70 million</td>\n",
              "      <td>How many Richmond inhabitants get their water ...</td>\n",
              "    </tr>\n",
              "    <tr>\n",
              "      <th>17017</th>\n",
              "      <td>70 million gallons</td>\n",
              "      <td>70 million gallons</td>\n",
              "      <td>How much sewage and stormwater can the treatme...</td>\n",
              "    </tr>\n",
              "  </tbody>\n",
              "</table>\n",
              "<p>17018 rows × 3 columns</p>\n",
              "</div>"
            ],
            "text/plain": [
              "                      text  ...                                           question\n",
              "0        in the late 1990s  ...           When did Beyonce start becoming popular?\n",
              "1      singing and dancing  ...  What areas did Beyonce compete in when she was...\n",
              "2                     2003  ...  When did Beyonce leave Destiny's Child and bec...\n",
              "3                   acting  ...  After her second solo album, what other entert...\n",
              "4                    Jay Z  ...                    Which artist did Beyonce marry?\n",
              "...                    ...  ...                                                ...\n",
              "17013          natural gas  ...             What type of power plant is Darbytown?\n",
              "17014                   61  ...  How many kilometers of sewer lines exist in Ri...\n",
              "17015    44-million-gallon  ...  How much water is contained in Shockoe Retenti...\n",
              "17016               62,000  ...  How many Richmond inhabitants get their water ...\n",
              "17017   70 million gallons  ...  How much sewage and stormwater can the treatme...\n",
              "\n",
              "[17018 rows x 3 columns]"
            ]
          },
          "metadata": {},
          "execution_count": 230
        }
      ]
    },
    {
      "cell_type": "code",
      "metadata": {
        "colab": {
          "base_uri": "https://localhost:8080/"
        },
        "id": "XsGNHpb4mDXz",
        "outputId": "3f871796-9a43-4778-9f87-b3347050b759"
      },
      "source": [
        "exact = val_cfr.loc[val_cfr.text == val_cfr.prediction]\n",
        "exact.reset_index(inplace=True, drop=True)\n",
        "print(f\"Correct predictions are: {len(exact)} ({100*len(exact)/len(val_cfr):.2f}%)\")"
      ],
      "execution_count": 311,
      "outputs": [
        {
          "output_type": "stream",
          "name": "stdout",
          "text": [
            "Correct predictions are: 7011 (41.20%)\n"
          ]
        }
      ]
    },
    {
      "cell_type": "code",
      "metadata": {
        "colab": {
          "base_uri": "https://localhost:8080/",
          "height": 436
        },
        "id": "7S52gkEPmeet",
        "outputId": "50fda215-30c0-4105-8e21-683579db775f"
      },
      "source": [
        "incorrect = val_cfr.loc[val_cfr.text != val_cfr.prediction]\n",
        "incorrect.reset_index(inplace=True, drop=True)\n",
        "print(f\"Incorrect predictions are: {len(incorrect)} ({100*len(incorrect)/len(val_cfr):.2f}%)\")\n",
        "incorrect"
      ],
      "execution_count": 312,
      "outputs": [
        {
          "output_type": "stream",
          "name": "stdout",
          "text": [
            "Incorrect predictions are: 10007 (58.80%)\n"
          ]
        },
        {
          "output_type": "execute_result",
          "data": {
            "text/html": [
              "<div>\n",
              "<style scoped>\n",
              "    .dataframe tbody tr th:only-of-type {\n",
              "        vertical-align: middle;\n",
              "    }\n",
              "\n",
              "    .dataframe tbody tr th {\n",
              "        vertical-align: top;\n",
              "    }\n",
              "\n",
              "    .dataframe thead th {\n",
              "        text-align: right;\n",
              "    }\n",
              "</style>\n",
              "<table border=\"1\" class=\"dataframe\">\n",
              "  <thead>\n",
              "    <tr style=\"text-align: right;\">\n",
              "      <th></th>\n",
              "      <th>text</th>\n",
              "      <th>prediction</th>\n",
              "      <th>question</th>\n",
              "    </tr>\n",
              "  </thead>\n",
              "  <tbody>\n",
              "    <tr>\n",
              "      <th>0</th>\n",
              "      <td>in the late 1990s</td>\n",
              "      <td>September 4, 1981</td>\n",
              "      <td>When did Beyonce start becoming popular?</td>\n",
              "    </tr>\n",
              "    <tr>\n",
              "      <th>1</th>\n",
              "      <td>singing and dancing</td>\n",
              "      <td>Houston, Texas</td>\n",
              "      <td>What areas did Beyonce compete in when she was...</td>\n",
              "    </tr>\n",
              "    <tr>\n",
              "      <th>2</th>\n",
              "      <td>2003</td>\n",
              "      <td>1990s</td>\n",
              "      <td>When did Beyonce leave Destiny's Child and bec...</td>\n",
              "    </tr>\n",
              "    <tr>\n",
              "      <th>3</th>\n",
              "      <td>acting</td>\n",
              "      <td>Beautiful Liar\". Beyoncé also ventured into ac...</td>\n",
              "      <td>After her second solo album, what other entert...</td>\n",
              "    </tr>\n",
              "    <tr>\n",
              "      <th>4</th>\n",
              "      <td>love, relationships, and monogamy</td>\n",
              "      <td>love, relationships, and monogamy, as well as ...</td>\n",
              "      <td>In her music, what are some recurring elements...</td>\n",
              "    </tr>\n",
              "    <tr>\n",
              "      <th>...</th>\n",
              "      <td>...</td>\n",
              "      <td>...</td>\n",
              "      <td>...</td>\n",
              "    </tr>\n",
              "    <tr>\n",
              "      <th>10002</th>\n",
              "      <td>Staples Mill Road Station</td>\n",
              "      <td>Amtrak</td>\n",
              "      <td>What station services all southern rail traffi...</td>\n",
              "    </tr>\n",
              "    <tr>\n",
              "      <th>10003</th>\n",
              "      <td>Main Street Station</td>\n",
              "      <td>Amtrak</td>\n",
              "      <td>What is the name of the railroad station insid...</td>\n",
              "    </tr>\n",
              "    <tr>\n",
              "      <th>10004</th>\n",
              "      <td>North Anna Nuclear Generating Station</td>\n",
              "      <td>North Anna</td>\n",
              "      <td>Along with Surry Nuclear Generating Station, w...</td>\n",
              "    </tr>\n",
              "    <tr>\n",
              "      <th>10005</th>\n",
              "      <td>natural gas</td>\n",
              "      <td>gas plants</td>\n",
              "      <td>What type of power plant is Darbytown?</td>\n",
              "    </tr>\n",
              "    <tr>\n",
              "      <th>10006</th>\n",
              "      <td>62,000</td>\n",
              "      <td>70 million</td>\n",
              "      <td>How many Richmond inhabitants get their water ...</td>\n",
              "    </tr>\n",
              "  </tbody>\n",
              "</table>\n",
              "<p>10007 rows × 3 columns</p>\n",
              "</div>"
            ],
            "text/plain": [
              "                                        text  ...                                           question\n",
              "0                          in the late 1990s  ...           When did Beyonce start becoming popular?\n",
              "1                        singing and dancing  ...  What areas did Beyonce compete in when she was...\n",
              "2                                       2003  ...  When did Beyonce leave Destiny's Child and bec...\n",
              "3                                     acting  ...  After her second solo album, what other entert...\n",
              "4          love, relationships, and monogamy  ...  In her music, what are some recurring elements...\n",
              "...                                      ...  ...                                                ...\n",
              "10002              Staples Mill Road Station  ...  What station services all southern rail traffi...\n",
              "10003                    Main Street Station  ...  What is the name of the railroad station insid...\n",
              "10004  North Anna Nuclear Generating Station  ...  Along with Surry Nuclear Generating Station, w...\n",
              "10005                            natural gas  ...             What type of power plant is Darbytown?\n",
              "10006                                 62,000  ...  How many Richmond inhabitants get their water ...\n",
              "\n",
              "[10007 rows x 3 columns]"
            ]
          },
          "metadata": {},
          "execution_count": 312
        }
      ]
    },
    {
      "cell_type": "code",
      "metadata": {
        "colab": {
          "base_uri": "https://localhost:8080/",
          "height": 1000
        },
        "id": "TtyM9r8rycAp",
        "outputId": "b809538d-1e95-4ea2-e3ee-101a4a5dd937"
      },
      "source": [
        "import re\n",
        "def has_numbers(inputString):\n",
        "  return bool(re.search(r'\\d', inputString))\n",
        "\n",
        "def find_correct_quantities(incorrect):\n",
        "  correct_quantities = []\n",
        "  for idx, row in incorrect.iterrows():\n",
        "    for word in row.prediction.split():\n",
        "      if has_numbers(word) and word in row.text.split():\n",
        "          correct_quantities.append(row)\n",
        "  return pd.DataFrame(correct_quantities)\n",
        "\n",
        "correct_quantities = find_correct_quantities(incorrect)\n",
        "correct_quantities.drop_duplicates(keep=False, inplace=True)\n",
        "print(f\"Of the {len(val_cfr)} wrong predictions, {len(correct_quantities)} ({100*len(correct_quantities)/len(val_cfr):.2f}%) contain the correct quantity\")\n",
        "print(\"Sometimes the answer predicted is also more precise than the one given in the dataset, so the model captures quite well the context and gives enough importance to each token in the question\")\n",
        "correct_quantities.head(30)"
      ],
      "execution_count": 313,
      "outputs": [
        {
          "output_type": "stream",
          "name": "stdout",
          "text": [
            "Of the 17018 wrong predictions, 635 (3.73%) contain the correct quantity\n",
            "Sometimes the answer predicted is also more precise than the one given in the dataset, so the model captures quite well the context and gives enough importance to each token in the question\n"
          ]
        },
        {
          "output_type": "execute_result",
          "data": {
            "text/html": [
              "<div>\n",
              "<style scoped>\n",
              "    .dataframe tbody tr th:only-of-type {\n",
              "        vertical-align: middle;\n",
              "    }\n",
              "\n",
              "    .dataframe tbody tr th {\n",
              "        vertical-align: top;\n",
              "    }\n",
              "\n",
              "    .dataframe thead th {\n",
              "        text-align: right;\n",
              "    }\n",
              "</style>\n",
              "<table border=\"1\" class=\"dataframe\">\n",
              "  <thead>\n",
              "    <tr style=\"text-align: right;\">\n",
              "      <th></th>\n",
              "      <th>text</th>\n",
              "      <th>prediction</th>\n",
              "      <th>question</th>\n",
              "    </tr>\n",
              "  </thead>\n",
              "  <tbody>\n",
              "    <tr>\n",
              "      <th>25</th>\n",
              "      <td>2007</td>\n",
              "      <td>April 2007</td>\n",
              "      <td>Beyonce's first world tour was when?</td>\n",
              "    </tr>\n",
              "    <tr>\n",
              "      <th>36</th>\n",
              "      <td>the 2011 Glastonbury Festival</td>\n",
              "      <td>2011 Glastonbury Festival</td>\n",
              "      <td>Beyonce became the first female artist to perf...</td>\n",
              "    </tr>\n",
              "    <tr>\n",
              "      <th>94</th>\n",
              "      <td>118 million</td>\n",
              "      <td>over 118 million</td>\n",
              "      <td>Totaling worldwide, how many records as Beyonc...</td>\n",
              "    </tr>\n",
              "    <tr>\n",
              "      <th>111</th>\n",
              "      <td>late 1990s</td>\n",
              "      <td>1990s</td>\n",
              "      <td>In which decade did Beyonce become famous?</td>\n",
              "    </tr>\n",
              "    <tr>\n",
              "      <th>131</th>\n",
              "      <td>November 2003</td>\n",
              "      <td>2003</td>\n",
              "      <td>In what year did Beyonce embark on her Dangero...</td>\n",
              "    </tr>\n",
              "    <tr>\n",
              "      <th>145</th>\n",
              "      <td>310,000 copies</td>\n",
              "      <td>310,000</td>\n",
              "      <td>How many copies did the album sell in its firs...</td>\n",
              "    </tr>\n",
              "    <tr>\n",
              "      <th>172</th>\n",
              "      <td>September 2015</td>\n",
              "      <td>2015</td>\n",
              "      <td>When will they meet?</td>\n",
              "    </tr>\n",
              "    <tr>\n",
              "      <th>204</th>\n",
              "      <td>2013</td>\n",
              "      <td>January 2013</td>\n",
              "      <td>When did she appear on the cover of GQ?</td>\n",
              "    </tr>\n",
              "    <tr>\n",
              "      <th>218</th>\n",
              "      <td>around 8 million copies</td>\n",
              "      <td>8 million</td>\n",
              "      <td>How many copies did Crazy in Love sell?</td>\n",
              "    </tr>\n",
              "    <tr>\n",
              "      <th>219</th>\n",
              "      <td>15 million</td>\n",
              "      <td>over 15 million</td>\n",
              "      <td>How many albums has Beyonce as a solo artist s...</td>\n",
              "    </tr>\n",
              "    <tr>\n",
              "      <th>220</th>\n",
              "      <td>118 million</td>\n",
              "      <td>over 118 million</td>\n",
              "      <td>How many has she sold worldwide?</td>\n",
              "    </tr>\n",
              "    <tr>\n",
              "      <th>222</th>\n",
              "      <td>64 certifications</td>\n",
              "      <td>64</td>\n",
              "      <td>How many music certifications has she received...</td>\n",
              "    </tr>\n",
              "    <tr>\n",
              "      <th>224</th>\n",
              "      <td>52 nominations</td>\n",
              "      <td>52</td>\n",
              "      <td>How many Grammy nominations does Beyonce have?</td>\n",
              "    </tr>\n",
              "    <tr>\n",
              "      <th>231</th>\n",
              "      <td>70 staff</td>\n",
              "      <td>70 staff and millions of pounds</td>\n",
              "      <td>How many people lost jobs when Beyonce left th...</td>\n",
              "    </tr>\n",
              "    <tr>\n",
              "      <th>233</th>\n",
              "      <td>2015</td>\n",
              "      <td>fall of 2015</td>\n",
              "      <td>When will the new line launch?</td>\n",
              "    </tr>\n",
              "    <tr>\n",
              "      <th>281</th>\n",
              "      <td>2000</td>\n",
              "      <td>2000 Census</td>\n",
              "      <td>In what year did the population of New York fi...</td>\n",
              "    </tr>\n",
              "    <tr>\n",
              "      <th>294</th>\n",
              "      <td>304.8</td>\n",
              "      <td>304.8 sq mi (789 km2</td>\n",
              "      <td>In square miles, how much of the city's total ...</td>\n",
              "    </tr>\n",
              "    <tr>\n",
              "      <th>302</th>\n",
              "      <td>61st</td>\n",
              "      <td>61st floor</td>\n",
              "      <td>What floor of the Chrysler Building has sculpt...</td>\n",
              "    </tr>\n",
              "    <tr>\n",
              "      <th>306</th>\n",
              "      <td>the Great Fire of 1835</td>\n",
              "      <td>Great Fire of 1835</td>\n",
              "      <td>What event led to the decline in wooden constr...</td>\n",
              "    </tr>\n",
              "    <tr>\n",
              "      <th>317</th>\n",
              "      <td>9,000</td>\n",
              "      <td>9,000 acres</td>\n",
              "      <td>About how large is the Jamaica Bay Wildlife Re...</td>\n",
              "    </tr>\n",
              "    <tr>\n",
              "      <th>330</th>\n",
              "      <td>12 million</td>\n",
              "      <td>more than 12 million</td>\n",
              "      <td>How many immigrants arrived at Ellis Island fr...</td>\n",
              "    </tr>\n",
              "    <tr>\n",
              "      <th>356</th>\n",
              "      <td>140 West Street</td>\n",
              "      <td>140 West Street in Lower Manhattan</td>\n",
              "      <td>What is the street address of the headquarters...</td>\n",
              "    </tr>\n",
              "    <tr>\n",
              "      <th>358</th>\n",
              "      <td>US$30 million</td>\n",
              "      <td>more than US$30 million</td>\n",
              "      <td>About how much capital did Accelerator raise a...</td>\n",
              "    </tr>\n",
              "    <tr>\n",
              "      <th>368</th>\n",
              "      <td>Broadway, from 159th Street to 218th Street</td>\n",
              "      <td>218th Street</td>\n",
              "      <td>Which street in NYC today is now named after J...</td>\n",
              "    </tr>\n",
              "    <tr>\n",
              "      <th>398</th>\n",
              "      <td>10</td>\n",
              "      <td>10 of the 19</td>\n",
              "      <td>How many leader terrorists of Al Quada were in...</td>\n",
              "    </tr>\n",
              "    <tr>\n",
              "      <th>405</th>\n",
              "      <td>304.8</td>\n",
              "      <td>304.8 sq mi</td>\n",
              "      <td>How many square miles are land in NYC?</td>\n",
              "    </tr>\n",
              "    <tr>\n",
              "      <th>407</th>\n",
              "      <td>409.8</td>\n",
              "      <td>409.8 feet</td>\n",
              "      <td>How many feet above sea level is Todt Hil?</td>\n",
              "    </tr>\n",
              "    <tr>\n",
              "      <th>413</th>\n",
              "      <td>106</td>\n",
              "      <td>106 °F</td>\n",
              "      <td>What is the highest temperature recorded in NYC?</td>\n",
              "    </tr>\n",
              "    <tr>\n",
              "      <th>414</th>\n",
              "      <td>1934</td>\n",
              "      <td>February 9, 1934</td>\n",
              "      <td>When was the lowest temperature recorded in NYC?</td>\n",
              "    </tr>\n",
              "    <tr>\n",
              "      <th>416</th>\n",
              "      <td>over 26,000</td>\n",
              "      <td>26,000</td>\n",
              "      <td>How many acres of land does Gateway Nation Rec...</td>\n",
              "    </tr>\n",
              "  </tbody>\n",
              "</table>\n",
              "</div>"
            ],
            "text/plain": [
              "                                            text  ...                                           question\n",
              "25                                          2007  ...               Beyonce's first world tour was when?\n",
              "36                 the 2011 Glastonbury Festival  ...  Beyonce became the first female artist to perf...\n",
              "94                                   118 million  ...  Totaling worldwide, how many records as Beyonc...\n",
              "111                                   late 1990s  ...         In which decade did Beyonce become famous?\n",
              "131                                November 2003  ...  In what year did Beyonce embark on her Dangero...\n",
              "145                               310,000 copies  ...  How many copies did the album sell in its firs...\n",
              "172                               September 2015  ...                               When will they meet?\n",
              "204                                         2013  ...            When did she appear on the cover of GQ?\n",
              "218                      around 8 million copies  ...            How many copies did Crazy in Love sell?\n",
              "219                                   15 million  ...  How many albums has Beyonce as a solo artist s...\n",
              "220                                  118 million  ...                   How many has she sold worldwide?\n",
              "222                            64 certifications  ...  How many music certifications has she received...\n",
              "224                               52 nominations  ...     How many Grammy nominations does Beyonce have?\n",
              "231                                     70 staff  ...  How many people lost jobs when Beyonce left th...\n",
              "233                                         2015  ...                     When will the new line launch?\n",
              "281                                         2000  ...  In what year did the population of New York fi...\n",
              "294                                        304.8  ...  In square miles, how much of the city's total ...\n",
              "302                                         61st  ...  What floor of the Chrysler Building has sculpt...\n",
              "306                       the Great Fire of 1835  ...  What event led to the decline in wooden constr...\n",
              "317                                        9,000  ...  About how large is the Jamaica Bay Wildlife Re...\n",
              "330                                   12 million  ...  How many immigrants arrived at Ellis Island fr...\n",
              "356                              140 West Street  ...  What is the street address of the headquarters...\n",
              "358                                US$30 million  ...  About how much capital did Accelerator raise a...\n",
              "368  Broadway, from 159th Street to 218th Street  ...  Which street in NYC today is now named after J...\n",
              "398                                           10  ...  How many leader terrorists of Al Quada were in...\n",
              "405                                        304.8  ...             How many square miles are land in NYC?\n",
              "407                                        409.8  ...         How many feet above sea level is Todt Hil?\n",
              "413                                          106  ...   What is the highest temperature recorded in NYC?\n",
              "414                                         1934  ...   When was the lowest temperature recorded in NYC?\n",
              "416                                  over 26,000  ...  How many acres of land does Gateway Nation Rec...\n",
              "\n",
              "[30 rows x 3 columns]"
            ]
          },
          "metadata": {},
          "execution_count": 313
        }
      ]
    },
    {
      "cell_type": "code",
      "metadata": {
        "colab": {
          "base_uri": "https://localhost:8080/"
        },
        "id": "k3RD4noQz5Tv",
        "outputId": "e7fb3fee-d0b1-4bfe-cc83-5e744bf2e841"
      },
      "source": [
        "incorrect = incorrect.iloc[incorrect.index.difference(correct_quantities.index)].reset_index(drop=True)\n",
        "incorrect.shape"
      ],
      "execution_count": 314,
      "outputs": [
        {
          "output_type": "execute_result",
          "data": {
            "text/plain": [
              "(9372, 3)"
            ]
          },
          "metadata": {},
          "execution_count": 314
        }
      ]
    },
    {
      "cell_type": "code",
      "metadata": {
        "id": "IrrVzQ4B5Bgy"
      },
      "source": [
        "%%capture\n",
        "!pip install spacy\n",
        "import spacy\n",
        "spacy.cli.download(\"en_core_web_sm\")\n",
        "nlp = spacy.load(\"en_core_web_sm\", disable=['parser', 'senter', 'attribute_ruler'])\n",
        "STOPWORDS = nlp.Defaults.stop_words"
      ],
      "execution_count": 315,
      "outputs": []
    },
    {
      "cell_type": "code",
      "metadata": {
        "colab": {
          "base_uri": "https://localhost:8080/",
          "height": 436
        },
        "id": "0wTwYGbpnqcJ",
        "outputId": "fbbd9bc5-cb7d-4f57-916f-dd1cda131327"
      },
      "source": [
        "def find_partially_correct(incorrect):\n",
        "  partially_correct = []\n",
        "  for idx, row in incorrect.iterrows():\n",
        "    count = 0\n",
        "    for word in row.text.split():\n",
        "      if word in row.prediction:\n",
        "        count = count + 1\n",
        "    if count >= 2:\n",
        "      partially_correct.append(row)\n",
        "  return pd.DataFrame(partially_correct)\n",
        "\n",
        "partially_correct = find_partially_correct(incorrect)\n",
        "print(f\"Of the {len(val_cfr)} wrong predictions, {len(partially_correct)} ({100*len(partially_correct)/len(val_cfr):.2f}%) contain the correct answer with high probability\")\n",
        "partially_correct"
      ],
      "execution_count": 316,
      "outputs": [
        {
          "output_type": "stream",
          "name": "stdout",
          "text": [
            "Of the 17018 wrong predictions, 2990 (17.57%) contain the correct answer with high probability\n"
          ]
        },
        {
          "output_type": "execute_result",
          "data": {
            "text/html": [
              "<div>\n",
              "<style scoped>\n",
              "    .dataframe tbody tr th:only-of-type {\n",
              "        vertical-align: middle;\n",
              "    }\n",
              "\n",
              "    .dataframe tbody tr th {\n",
              "        vertical-align: top;\n",
              "    }\n",
              "\n",
              "    .dataframe thead th {\n",
              "        text-align: right;\n",
              "    }\n",
              "</style>\n",
              "<table border=\"1\" class=\"dataframe\">\n",
              "  <thead>\n",
              "    <tr style=\"text-align: right;\">\n",
              "      <th></th>\n",
              "      <th>text</th>\n",
              "      <th>prediction</th>\n",
              "      <th>question</th>\n",
              "    </tr>\n",
              "  </thead>\n",
              "  <tbody>\n",
              "    <tr>\n",
              "      <th>4</th>\n",
              "      <td>love, relationships, and monogamy</td>\n",
              "      <td>love, relationships, and monogamy, as well as ...</td>\n",
              "      <td>In her music, what are some recurring elements...</td>\n",
              "    </tr>\n",
              "    <tr>\n",
              "      <th>17</th>\n",
              "      <td>The Fighting Temptations</td>\n",
              "      <td>The Fighting Temptations as Lilly</td>\n",
              "      <td>Beyonce starred with Cuba Gooding Jr. in which...</td>\n",
              "    </tr>\n",
              "    <tr>\n",
              "      <th>23</th>\n",
              "      <td>The Pink Panther</td>\n",
              "      <td>Pink Panther</td>\n",
              "      <td>What movie did Beyonce act in 2006?</td>\n",
              "    </tr>\n",
              "    <tr>\n",
              "      <th>25</th>\n",
              "      <td>24 million</td>\n",
              "      <td>$24 million</td>\n",
              "      <td>How much money did Beyonce's tour make in 2007?</td>\n",
              "    </tr>\n",
              "    <tr>\n",
              "      <th>26</th>\n",
              "      <td>119.5 million</td>\n",
              "      <td>$119.5 million</td>\n",
              "      <td>In 2009, Beyonce started her second world tour...</td>\n",
              "    </tr>\n",
              "    <tr>\n",
              "      <th>...</th>\n",
              "      <td>...</td>\n",
              "      <td>...</td>\n",
              "      <td>...</td>\n",
              "    </tr>\n",
              "    <tr>\n",
              "      <th>9333</th>\n",
              "      <td>Carrère and Hastings</td>\n",
              "      <td>Beaux-Arts architects Carrère and Hastings</td>\n",
              "      <td>Who designed the Commonwealth Club?</td>\n",
              "    </tr>\n",
              "    <tr>\n",
              "      <th>9342</th>\n",
              "      <td>Forest Hill Amusement Park</td>\n",
              "      <td>Azalea Garden, Forest Hill Park</td>\n",
              "      <td>What was previously located at the present loc...</td>\n",
              "    </tr>\n",
              "    <tr>\n",
              "      <th>9351</th>\n",
              "      <td>Public Broadcasting</td>\n",
              "      <td>Public Broadcasting Service</td>\n",
              "      <td>What type of channel is WCVW 57?</td>\n",
              "    </tr>\n",
              "    <tr>\n",
              "      <th>9358</th>\n",
              "      <td>South University - Richmond</td>\n",
              "      <td>South University</td>\n",
              "      <td>What is a for-profit university in Richmond?</td>\n",
              "    </tr>\n",
              "    <tr>\n",
              "      <th>9369</th>\n",
              "      <td>North Anna Nuclear Generating Station</td>\n",
              "      <td>North Anna</td>\n",
              "      <td>Along with Surry Nuclear Generating Station, w...</td>\n",
              "    </tr>\n",
              "  </tbody>\n",
              "</table>\n",
              "<p>2990 rows × 3 columns</p>\n",
              "</div>"
            ],
            "text/plain": [
              "                                       text  ...                                           question\n",
              "4         love, relationships, and monogamy  ...  In her music, what are some recurring elements...\n",
              "17                 The Fighting Temptations  ...  Beyonce starred with Cuba Gooding Jr. in which...\n",
              "23                         The Pink Panther  ...                What movie did Beyonce act in 2006?\n",
              "25                               24 million  ...    How much money did Beyonce's tour make in 2007?\n",
              "26                            119.5 million  ...  In 2009, Beyonce started her second world tour...\n",
              "...                                     ...  ...                                                ...\n",
              "9333                   Carrère and Hastings  ...                Who designed the Commonwealth Club?\n",
              "9342             Forest Hill Amusement Park  ...  What was previously located at the present loc...\n",
              "9351                    Public Broadcasting  ...                   What type of channel is WCVW 57?\n",
              "9358            South University - Richmond  ...       What is a for-profit university in Richmond?\n",
              "9369  North Anna Nuclear Generating Station  ...  Along with Surry Nuclear Generating Station, w...\n",
              "\n",
              "[2990 rows x 3 columns]"
            ]
          },
          "metadata": {},
          "execution_count": 316
        }
      ]
    },
    {
      "cell_type": "code",
      "metadata": {
        "colab": {
          "base_uri": "https://localhost:8080/"
        },
        "id": "VktmGbHSqHvS",
        "outputId": "99ffa533-d591-412c-e864-55f1228acb77"
      },
      "source": [
        "incorrect = incorrect.iloc[incorrect.index.difference(partially_correct.index)].reset_index(drop=True)\n",
        "incorrect.shape"
      ],
      "execution_count": 317,
      "outputs": [
        {
          "output_type": "execute_result",
          "data": {
            "text/plain": [
              "(6382, 3)"
            ]
          },
          "metadata": {},
          "execution_count": 317
        }
      ]
    },
    {
      "cell_type": "markdown",
      "metadata": {
        "id": "TszoyaYn5rUG"
      },
      "source": [
        "Among those answers we can distinguish different types of predicted answers:\n",
        "  \n",
        "\n",
        "1.   There are some answers in which quantities are predicted correctly but the model generates along with the quantity and without spacing, the correct unit measure (i.e. True: 158.8 million, Predicted: $158.8 million)\n",
        "2.   In some cases, the answer predicted gives even more precise information than the one provided in the dataset, so the model captures quite well the context and gives enough importance to each token in the question\n",
        "\n"
      ]
    },
    {
      "cell_type": "code",
      "metadata": {
        "colab": {
          "base_uri": "https://localhost:8080/",
          "height": 376
        },
        "id": "1MpdYkZ7z_98",
        "outputId": "f43f9842-fdc9-4b4e-d003-260751f6219a"
      },
      "source": [
        "def partial_match(incorrect):\n",
        "  one_correct = []\n",
        "  for idx, row in incorrect.iterrows():\n",
        "    count = 0\n",
        "    for word in row.prediction.split():\n",
        "      if word in row.text.split() and word not in STOPWORDS:\n",
        "        count = count + 1\n",
        "    if count >= 1:\n",
        "      one_correct.append(row)\n",
        "  return pd.DataFrame(one_correct)\n",
        "\n",
        "intersection = partial_match(incorrect)\n",
        "print(f\"Of the {len(val_cfr)} wrong predictions, {len(intersection)} ({100*len(intersection)/len(val_cfr):.2f}%) contain one word with exact match without considering stopwords\")\n",
        "intersection.head(10)"
      ],
      "execution_count": 318,
      "outputs": [
        {
          "output_type": "stream",
          "name": "stdout",
          "text": [
            "Of the 17018 wrong predictions, 1295 (7.61%) contain one word with exact match without considering stopwords\n"
          ]
        },
        {
          "output_type": "execute_result",
          "data": {
            "text/html": [
              "<div>\n",
              "<style scoped>\n",
              "    .dataframe tbody tr th:only-of-type {\n",
              "        vertical-align: middle;\n",
              "    }\n",
              "\n",
              "    .dataframe tbody tr th {\n",
              "        vertical-align: top;\n",
              "    }\n",
              "\n",
              "    .dataframe thead th {\n",
              "        text-align: right;\n",
              "    }\n",
              "</style>\n",
              "<table border=\"1\" class=\"dataframe\">\n",
              "  <thead>\n",
              "    <tr style=\"text-align: right;\">\n",
              "      <th></th>\n",
              "      <th>text</th>\n",
              "      <th>prediction</th>\n",
              "      <th>question</th>\n",
              "    </tr>\n",
              "  </thead>\n",
              "  <tbody>\n",
              "    <tr>\n",
              "      <th>29</th>\n",
              "      <td>minute</td>\n",
              "      <td>the world per minute</td>\n",
              "      <td>Beyonce was listed in 2011 as the highest paid...</td>\n",
              "    </tr>\n",
              "    <tr>\n",
              "      <th>30</th>\n",
              "      <td>writing</td>\n",
              "      <td>writing award</td>\n",
              "      <td>Beyonce won an award for which activity in 2011?</td>\n",
              "    </tr>\n",
              "    <tr>\n",
              "      <th>33</th>\n",
              "      <td>Life Is But a Dream</td>\n",
              "      <td>Life</td>\n",
              "      <td>Beyonce's documentary movie was called what?</td>\n",
              "    </tr>\n",
              "    <tr>\n",
              "      <th>40</th>\n",
              "      <td>Vogue</td>\n",
              "      <td>Vogue magazine</td>\n",
              "      <td>Which magazine did Beyonce pose on the cover f...</td>\n",
              "    </tr>\n",
              "    <tr>\n",
              "      <th>42</th>\n",
              "      <td>Tidal</td>\n",
              "      <td>streaming service Tidal</td>\n",
              "      <td>Beyonce released the song \"Formation\" on which...</td>\n",
              "    </tr>\n",
              "    <tr>\n",
              "      <th>67</th>\n",
              "      <td>African-American</td>\n",
              "      <td>African-American community</td>\n",
              "      <td>Which racial community gave criticism to Beyonce?</td>\n",
              "    </tr>\n",
              "    <tr>\n",
              "      <th>73</th>\n",
              "      <td>fashion retailer Topshop</td>\n",
              "      <td>Parkwood Topshop Athletic Ltd</td>\n",
              "      <td>Who did Bayonce's management go into business ...</td>\n",
              "    </tr>\n",
              "    <tr>\n",
              "      <th>79</th>\n",
              "      <td>Ike</td>\n",
              "      <td>Hurricane Ike three</td>\n",
              "      <td>What hurricane years later after Katrina did t...</td>\n",
              "    </tr>\n",
              "    <tr>\n",
              "      <th>83</th>\n",
              "      <td>Dangerously in Love</td>\n",
              "      <td>Love</td>\n",
              "      <td>What album made her a worldwide known artist?</td>\n",
              "    </tr>\n",
              "    <tr>\n",
              "      <th>93</th>\n",
              "      <td>Fighting Temptations</td>\n",
              "      <td>Fighting Temptation</td>\n",
              "      <td>What song was the lead single from the film's ...</td>\n",
              "    </tr>\n",
              "  </tbody>\n",
              "</table>\n",
              "</div>"
            ],
            "text/plain": [
              "                        text  ...                                           question\n",
              "29                    minute  ...  Beyonce was listed in 2011 as the highest paid...\n",
              "30                   writing  ...   Beyonce won an award for which activity in 2011?\n",
              "33       Life Is But a Dream  ...       Beyonce's documentary movie was called what?\n",
              "40                     Vogue  ...  Which magazine did Beyonce pose on the cover f...\n",
              "42                     Tidal  ...  Beyonce released the song \"Formation\" on which...\n",
              "67          African-American  ...  Which racial community gave criticism to Beyonce?\n",
              "73  fashion retailer Topshop  ...  Who did Bayonce's management go into business ...\n",
              "79                       Ike  ...  What hurricane years later after Katrina did t...\n",
              "83       Dangerously in Love  ...      What album made her a worldwide known artist?\n",
              "93      Fighting Temptations  ...  What song was the lead single from the film's ...\n",
              "\n",
              "[10 rows x 3 columns]"
            ]
          },
          "metadata": {},
          "execution_count": 318
        }
      ]
    },
    {
      "cell_type": "code",
      "metadata": {
        "colab": {
          "base_uri": "https://localhost:8080/"
        },
        "id": "RNQtLYt0LIPl",
        "outputId": "e7dee708-19f0-4ddb-ac27-5653f58668fc"
      },
      "source": [
        "nlp_texts = nlp.pipe(incorrect.text.values, disable=[\"tok2vec\", \"tagger\", \"lemmatizer\"])\n",
        "ner_texts = [[(ent.text, ent.label_) for ent in doc.ents] for doc in nlp_texts]\n",
        "ner_texts[:5]"
      ],
      "execution_count": 319,
      "outputs": [
        {
          "output_type": "execute_result",
          "data": {
            "text/plain": [
              "[[('the late 1990s', 'DATE')], [], [('2003', 'DATE')], [], []]"
            ]
          },
          "metadata": {},
          "execution_count": 319
        }
      ]
    },
    {
      "cell_type": "code",
      "metadata": {
        "colab": {
          "base_uri": "https://localhost:8080/"
        },
        "id": "LsrHNP6iLfnp",
        "outputId": "ffe795dd-5828-462b-9dec-d26aadd17800"
      },
      "source": [
        "nlp_preds = nlp.pipe(incorrect.prediction.values, disable=[\"tok2vec\", \"tagger\", \"lemmatizer\"])\n",
        "ner_preds = [[(ent.text, ent.label_) for ent in doc.ents] for doc in nlp_preds]\n",
        "ner_preds[:5]"
      ],
      "execution_count": 320,
      "outputs": [
        {
          "output_type": "execute_result",
          "data": {
            "text/plain": [
              "[[('September 4, 1981', 'DATE')],\n",
              " [('Houston', 'GPE'), ('Texas', 'GPE')],\n",
              " [],\n",
              " [('Beyoncé', 'ORG')],\n",
              " []]"
            ]
          },
          "metadata": {},
          "execution_count": 320
        }
      ]
    },
    {
      "cell_type": "code",
      "metadata": {
        "colab": {
          "base_uri": "https://localhost:8080/"
        },
        "id": "86_1R_gmLwZe",
        "outputId": "5ddef39b-1896-41a2-9d24-4f544385aaa3"
      },
      "source": [
        "def get_ners(x):\n",
        "  if len(x):\n",
        "    return [t[1] for t in x]\n",
        "  return []\n",
        "\n",
        "text_ner = list(map(get_ners, ner_texts))\n",
        "pred_ner = list(map(get_ners, ner_preds))\n",
        "list(zip(text_ner[:10], pred_net[:10]))"
      ],
      "execution_count": 321,
      "outputs": [
        {
          "output_type": "execute_result",
          "data": {
            "text/plain": [
              "[(['DATE'], ['DATE']),\n",
              " ([], ['GPE', 'GPE']),\n",
              " (['DATE'], []),\n",
              " ([], ['ORG']),\n",
              " ([], []),\n",
              " (['PERSON'], []),\n",
              " ([], ['GPE', 'GPE']),\n",
              " (['NORP'], ['ORG']),\n",
              " ([], ['NORP']),\n",
              " (['GPE'], ['GPE'])]"
            ]
          },
          "metadata": {},
          "execution_count": 321
        }
      ]
    },
    {
      "cell_type": "code",
      "metadata": {
        "colab": {
          "base_uri": "https://localhost:8080/"
        },
        "id": "CLB_rhQ_MGzw",
        "outputId": "388233ad-21ea-44c6-e6e0-49418fc1c1cc"
      },
      "source": [
        "bool_ner = [text_ner[i]== pred_ner[i] for i in range(len(text_ner)) if text_ner[i]]\n",
        "print(f'{sum(bool_ner)} ners (out of {len(bool_ner)}) are equal.')\n",
        "print(f'So, even if the prediction is incorrect, ner is guessed in {100*sum(bool_ner)/len(bool_ner):.2f}% of cases when available')"
      ],
      "execution_count": 322,
      "outputs": [
        {
          "output_type": "stream",
          "name": "stdout",
          "text": [
            "890 ners (out of 2703) are equal.\n",
            "So, even if the prediction is incorrect, ner is guessed in 32.93% of cases when available\n"
          ]
        }
      ]
    },
    {
      "cell_type": "code",
      "metadata": {
        "colab": {
          "base_uri": "https://localhost:8080/",
          "height": 35
        },
        "id": "32dAQwq7YHPJ",
        "outputId": "abb0153d-06c0-4483-9435-03b6718b718e"
      },
      "source": [
        "f'Answers for which NE category is available: {100*len(bool_ner)/len(val_cfr):.2f}%'"
      ],
      "execution_count": 323,
      "outputs": [
        {
          "output_type": "execute_result",
          "data": {
            "application/vnd.google.colaboratory.intrinsic+json": {
              "type": "string"
            },
            "text/plain": [
              "'Answers for which NE category is available: 15.88%'"
            ]
          },
          "metadata": {},
          "execution_count": 323
        }
      ]
    },
    {
      "cell_type": "code",
      "metadata": {
        "colab": {
          "base_uri": "https://localhost:8080/",
          "height": 35
        },
        "id": "sSR0hVmtX-s5",
        "outputId": "7e258a4c-1b17-4cd1-8748-6b0570e3a28c"
      },
      "source": [
        "f'Answers for which NE category is predicted correctly: {100*sum(bool_ner)/len(val_cfr):.2f}%'"
      ],
      "execution_count": 324,
      "outputs": [
        {
          "output_type": "execute_result",
          "data": {
            "application/vnd.google.colaboratory.intrinsic+json": {
              "type": "string"
            },
            "text/plain": [
              "'Answers for which NE category is predicted correctly: 5.23%'"
            ]
          },
          "metadata": {},
          "execution_count": 324
        }
      ]
    },
    {
      "cell_type": "code",
      "metadata": {
        "colab": {
          "base_uri": "https://localhost:8080/",
          "height": 683
        },
        "id": "JEUKP1z0jDZW",
        "outputId": "5c3639d4-31a7-4b55-d48e-f5f54f2f3753"
      },
      "source": [
        "fig, ax = plt.subplots(figsize=(24,12))\n",
        "size = 0.5\n",
        "explode = (0.10, 0.05, 0.05, 0.05, 0.05, 0.05)\n",
        "\n",
        "outer_labels = ['Correct Predictions',\n",
        "          'Predictions with Correct quantities',\n",
        "          'Predictions partially correct',\n",
        "          'Incorrect predictions with NER matched',\n",
        "          'Incorrect predictions with NER not matched',\n",
        "          'Incorrect predictions with no NER available']\n",
        "\n",
        "inner_labels = ['Potentially Correct predictions',\n",
        "                'Incorrect predictions']\n",
        "\n",
        "inner_data = [len(exact) + len(correct_quantities)+len(partially_correct),\n",
        "              len(incorrect)]\n",
        "\n",
        "ax.pie(data, radius=1,\n",
        "       labels=outer_labels,\n",
        "       explode=explode,\n",
        "       autopct='%1.2f%%',\n",
        "       pctdistance=0.7,\n",
        "       wedgeprops=dict(width=size, edgecolor='w'),\n",
        "       colors=['forestgreen', 'limegreen', 'springgreen', 'salmon', 'orangered', 'maroon'],\n",
        "       startangle=90,\n",
        "       textprops={'fontsize': 14})\n",
        "\n",
        "ax.pie(inner_data, radius=1-size, \n",
        "       \n",
        "       wedgeprops=dict(width=size, edgecolor='w'),\n",
        "       labeldistance=0.1,\n",
        "       autopct='%1.2f%%',\n",
        "       colors=['mediumspringgreen','lightcoral'], \n",
        "       startangle=90,\n",
        "       textprops={'fontsize': 16})\n",
        "\n",
        "ax.set(aspect=\"equal\")\n",
        "plt.show()"
      ],
      "execution_count": 369,
      "outputs": [
        {
          "output_type": "display_data",
          "data": {
            "image/png": "[encoded data removed]",
            "text/plain": [
              "<Figure size 1728x864 with 1 Axes>"
            ]
          },
          "metadata": {}
        }
      ]
    }
  ]
}